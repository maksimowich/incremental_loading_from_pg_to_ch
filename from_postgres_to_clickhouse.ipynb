{
 "cells": [
  {
   "cell_type": "code",
   "execution_count": null,
   "outputs": [],
   "source": [
    "!pip install numpy psycopg2 clickhouse_connect"
   ],
   "metadata": {
    "collapsed": false
   }
  },
  {
   "cell_type": "code",
   "execution_count": null,
   "outputs": [],
   "source": [
    "import psycopg2 as psycopg2\n",
    "import clickhouse_connect\n",
    "\n",
    "postgres_conn = psycopg2.connect('host=db.mpkazantsev.ru port=5432 dbname=postgres user=postgres password=5555')\n",
    "clickhouse_conn = clickhouse_connect.get_client(host='db.mpkazantsev.ru', port=8123, database='maindb',\n",
    "                                                user='stager', password='stager')\n"
   ],
   "metadata": {
    "collapsed": false
   }
  },
  {
   "cell_type": "code",
   "execution_count": null,
   "outputs": [],
   "source": [
    "TYPE_MAPPER = {\n",
    "    'boolean': 'UInt8',\n",
    "    'smallint': 'Int16',\n",
    "    'integer': 'Int32',\n",
    "    'bigint': 'Int64',\n",
    "    'real': 'Float32',\n",
    "    'double precision': 'Float64',\n",
    "    'numeric': 'Decimal(38, 18)',\n",
    "    'character varying': 'String',\n",
    "    'text': 'Text',\n",
    "    'date': 'Date',\n",
    "    'timestamp without time zone': 'DateTime',\n",
    "    'bytea': 'String',\n",
    "    'json': 'String',\n",
    "    'jsonb': 'String',\n",
    "    'uuid': 'String',\n",
    "    'inet': 'String',\n",
    "}\n",
    "\n",
    "\n",
    "def map_pg_to_ch_type(pg_data_type):\n",
    "    return TYPE_MAPPER.get(pg_data_type, 'String')\n",
    "\n",
    "\n",
    "def create_table_in_clickhouse(source_table_name, dest_table_name,\n",
    "                               postgres_conn, clickhouse_conn,\n",
    "                               order_columns_names):\n",
    "    pg_cursor = postgres_conn.cursor()\n",
    "    pg_cursor.execute(f\"SELECT column_name, data_type FROM information_schema.columns WHERE table_name = '{source_table_name}'\")\n",
    "    pg_schema = pg_cursor.fetchall()\n",
    "    create_table_query = f'CREATE TABLE {dest_table_name} ('\n",
    "    for col_name, pg_data_type in pg_schema:\n",
    "        ch_data_type = map_pg_to_ch_type(pg_data_type)\n",
    "        create_table_query += f'{\"`\" + col_name + \"`\"} {ch_data_type}, '\n",
    "    order_columns_in_string = '(' + ','.join(map(lambda x: '`' + x + '`', order_columns_names)) + ')'\n",
    "    create_table_query = create_table_query.rstrip(', ') + ') ENGINE = MergeTree() ORDER BY' + order_columns_in_string\n",
    "    print(create_table_query)\n",
    "    clickhouse_conn.command(create_table_query)\n",
    "\n",
    "create_table_in_clickhouse('ontime', 'adm_my_ontime2', postgres_conn, clickhouse_conn, ['Year', 'Month', 'DayofMonth'])"
   ],
   "metadata": {
    "collapsed": false
   }
  },
  {
   "cell_type": "code",
   "execution_count": null,
   "outputs": [],
   "source": [
    "def get_correct_value(value):\n",
    "    if type(value) in [int, float]:\n",
    "        return str(value)\n",
    "    elif value == '':\n",
    "        return 'Null'\n",
    "    else:\n",
    "        return \"'\" + str(value) + \"'\"\n",
    "\n",
    "\n",
    "def insert_increment_from_postgres_into_clickhouse(source_table_name, dest_table_name,\n",
    "                                         postgres_conn, clickhouse_conn,\n",
    "                                         start_value, end_value, increament_column_name):\n",
    "    pg_cursor = postgres_conn.cursor()\n",
    "    pg_cursor.execute(f\"SELECT * FROM {source_table_name} WHERE \\\"{increament_column_name}\\\" BETWEEN '{start_value}' AND '{end_value}'\")\n",
    "    pg_data = pg_cursor.fetchall()\n",
    "    ch_columns = [\"`\" + desc[0] + \"`\" for desc in pg_cursor.description]\n",
    "    ch_values = ','.join(['(' + ','.join(map(get_correct_value, row)) + ')' for row in pg_data[:3]])\n",
    "    clickhouse_conn.command(f\"INSERT INTO {dest_table_name} ({','.join(ch_columns)}) VALUES \" + ch_values)\n",
    "\n",
    "\n",
    "insert_increment_from_postgres_into_clickhouse('public.ontime', 'adm_my_ontime1', postgres_conn, clickhouse_conn, '2017-05-01', '2017-05-02')"
   ],
   "metadata": {
    "collapsed": false
   }
  }
 ],
 "metadata": {
  "kernelspec": {
   "display_name": "Python 3",
   "language": "python",
   "name": "python3"
  },
  "language_info": {
   "codemirror_mode": {
    "name": "ipython",
    "version": 2
   },
   "file_extension": ".py",
   "mimetype": "text/x-python",
   "name": "python",
   "nbconvert_exporter": "python",
   "pygments_lexer": "ipython2",
   "version": "2.7.6"
  }
 },
 "nbformat": 4,
 "nbformat_minor": 0
}
